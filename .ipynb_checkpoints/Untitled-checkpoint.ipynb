{
 "cells": [
  {
   "cell_type": "code",
   "execution_count": 200,
   "metadata": {},
   "outputs": [],
   "source": [
    "import pandas as pd\n",
    "import numpy as np\n",
    "import matplotlib.pyplot as plt\n",
    "%matplotlib inline\n",
    "from statsmodels.tsa.arima_model import ARIMA\n",
    "from sklearn.metrics import mean_squared_error\n",
    "import matplotlib.ticker as mticker\n",
    "from mpl_finance import candlestick_ohlc\n",
    "import matplotlib.dates as mdates"
   ]
  },
  {
   "cell_type": "code",
   "execution_count": 201,
   "metadata": {},
   "outputs": [],
   "source": [
    "stock_name = 'Axis Bank'\n",
    "data = pd.read_csv('BSE_Data/'+stock_name+'.csv')\n",
    "data['Date'] = pd.to_datetime(data['Date'])"
   ]
  },
  {
   "cell_type": "code",
   "execution_count": 214,
   "metadata": {},
   "outputs": [
    {
     "data": {
      "text/html": [
       "<div>\n",
       "<style scoped>\n",
       "    .dataframe tbody tr th:only-of-type {\n",
       "        vertical-align: middle;\n",
       "    }\n",
       "\n",
       "    .dataframe tbody tr th {\n",
       "        vertical-align: top;\n",
       "    }\n",
       "\n",
       "    .dataframe thead th {\n",
       "        text-align: right;\n",
       "    }\n",
       "</style>\n",
       "<table border=\"1\" class=\"dataframe\">\n",
       "  <thead>\n",
       "    <tr style=\"text-align: right;\">\n",
       "      <th></th>\n",
       "      <th>Date</th>\n",
       "      <th>Open Price</th>\n",
       "      <th>High Price</th>\n",
       "      <th>Low Price</th>\n",
       "      <th>Close Price</th>\n",
       "      <th>No.of Shares</th>\n",
       "    </tr>\n",
       "  </thead>\n",
       "  <tbody>\n",
       "    <tr>\n",
       "      <th>0</th>\n",
       "      <td>2019-07-31</td>\n",
       "      <td>694.00</td>\n",
       "      <td>695.35</td>\n",
       "      <td>657.65</td>\n",
       "      <td>674.40</td>\n",
       "      <td>1271110</td>\n",
       "    </tr>\n",
       "    <tr>\n",
       "      <th>1</th>\n",
       "      <td>2019-07-30</td>\n",
       "      <td>725.05</td>\n",
       "      <td>727.70</td>\n",
       "      <td>701.10</td>\n",
       "      <td>706.55</td>\n",
       "      <td>384131</td>\n",
       "    </tr>\n",
       "    <tr>\n",
       "      <th>2</th>\n",
       "      <td>2019-07-29</td>\n",
       "      <td>745.00</td>\n",
       "      <td>745.00</td>\n",
       "      <td>709.90</td>\n",
       "      <td>719.65</td>\n",
       "      <td>328200</td>\n",
       "    </tr>\n",
       "    <tr>\n",
       "      <th>3</th>\n",
       "      <td>2019-07-26</td>\n",
       "      <td>723.30</td>\n",
       "      <td>732.30</td>\n",
       "      <td>719.10</td>\n",
       "      <td>729.85</td>\n",
       "      <td>185928</td>\n",
       "    </tr>\n",
       "    <tr>\n",
       "      <th>4</th>\n",
       "      <td>2019-07-25</td>\n",
       "      <td>712.00</td>\n",
       "      <td>725.85</td>\n",
       "      <td>706.55</td>\n",
       "      <td>723.30</td>\n",
       "      <td>163417</td>\n",
       "    </tr>\n",
       "  </tbody>\n",
       "</table>\n",
       "</div>"
      ],
      "text/plain": [
       "        Date  Open Price  High Price  Low Price  Close Price  No.of Shares\n",
       "0 2019-07-31      694.00      695.35     657.65       674.40       1271110\n",
       "1 2019-07-30      725.05      727.70     701.10       706.55        384131\n",
       "2 2019-07-29      745.00      745.00     709.90       719.65        328200\n",
       "3 2019-07-26      723.30      732.30     719.10       729.85        185928\n",
       "4 2019-07-25      712.00      725.85     706.55       723.30        163417"
      ]
     },
     "execution_count": 214,
     "metadata": {},
     "output_type": "execute_result"
    }
   ],
   "source": [
    "data = data.loc[:,['Date','Open Price', 'High Price', 'Low Price', 'Close Price','No.of Shares']]\n",
    "data.head()"
   ]
  },
  {
   "cell_type": "code",
   "execution_count": 215,
   "metadata": {},
   "outputs": [
    {
     "name": "stdout",
     "output_type": "stream",
     "text": [
      "<class 'pandas.core.frame.DataFrame'>\n",
      "RangeIndex: 2510 entries, 0 to 2509\n",
      "Data columns (total 6 columns):\n",
      "Date            2510 non-null datetime64[ns]\n",
      "Open Price      2510 non-null float64\n",
      "High Price      2510 non-null float64\n",
      "Low Price       2510 non-null float64\n",
      "Close Price     2510 non-null float64\n",
      "No.of Shares    2510 non-null int64\n",
      "dtypes: datetime64[ns](1), float64(4), int64(1)\n",
      "memory usage: 117.7 KB\n"
     ]
    }
   ],
   "source": [
    "data.info()"
   ]
  },
  {
   "cell_type": "code",
   "execution_count": 216,
   "metadata": {},
   "outputs": [
    {
     "data": {
      "text/html": [
       "<div>\n",
       "<style scoped>\n",
       "    .dataframe tbody tr th:only-of-type {\n",
       "        vertical-align: middle;\n",
       "    }\n",
       "\n",
       "    .dataframe tbody tr th {\n",
       "        vertical-align: top;\n",
       "    }\n",
       "\n",
       "    .dataframe thead th {\n",
       "        text-align: right;\n",
       "    }\n",
       "</style>\n",
       "<table border=\"1\" class=\"dataframe\">\n",
       "  <thead>\n",
       "    <tr style=\"text-align: right;\">\n",
       "      <th></th>\n",
       "      <th>Date</th>\n",
       "      <th>Open Price</th>\n",
       "      <th>High Price</th>\n",
       "      <th>Low Price</th>\n",
       "      <th>Close Price</th>\n",
       "      <th>No.of Shares</th>\n",
       "    </tr>\n",
       "  </thead>\n",
       "  <tbody>\n",
       "    <tr>\n",
       "      <th>0</th>\n",
       "      <td>2019-07-31</td>\n",
       "      <td>694.00</td>\n",
       "      <td>695.35</td>\n",
       "      <td>657.65</td>\n",
       "      <td>674.40</td>\n",
       "      <td>1271110</td>\n",
       "    </tr>\n",
       "    <tr>\n",
       "      <th>1</th>\n",
       "      <td>2019-07-30</td>\n",
       "      <td>725.05</td>\n",
       "      <td>727.70</td>\n",
       "      <td>701.10</td>\n",
       "      <td>706.55</td>\n",
       "      <td>384131</td>\n",
       "    </tr>\n",
       "    <tr>\n",
       "      <th>2</th>\n",
       "      <td>2019-07-29</td>\n",
       "      <td>745.00</td>\n",
       "      <td>745.00</td>\n",
       "      <td>709.90</td>\n",
       "      <td>719.65</td>\n",
       "      <td>328200</td>\n",
       "    </tr>\n",
       "    <tr>\n",
       "      <th>3</th>\n",
       "      <td>2019-07-26</td>\n",
       "      <td>723.30</td>\n",
       "      <td>732.30</td>\n",
       "      <td>719.10</td>\n",
       "      <td>729.85</td>\n",
       "      <td>185928</td>\n",
       "    </tr>\n",
       "    <tr>\n",
       "      <th>4</th>\n",
       "      <td>2019-07-25</td>\n",
       "      <td>712.00</td>\n",
       "      <td>725.85</td>\n",
       "      <td>706.55</td>\n",
       "      <td>723.30</td>\n",
       "      <td>163417</td>\n",
       "    </tr>\n",
       "  </tbody>\n",
       "</table>\n",
       "</div>"
      ],
      "text/plain": [
       "        Date  Open Price  High Price  Low Price  Close Price  No.of Shares\n",
       "0 2019-07-31      694.00      695.35     657.65       674.40       1271110\n",
       "1 2019-07-30      725.05      727.70     701.10       706.55        384131\n",
       "2 2019-07-29      745.00      745.00     709.90       719.65        328200\n",
       "3 2019-07-26      723.30      732.30     719.10       729.85        185928\n",
       "4 2019-07-25      712.00      725.85     706.55       723.30        163417"
      ]
     },
     "execution_count": 216,
     "metadata": {},
     "output_type": "execute_result"
    }
   ],
   "source": [
    "plot_data = data.copy()\n",
    "plot_data.head()"
   ]
  },
  {
   "cell_type": "code",
   "execution_count": 217,
   "metadata": {},
   "outputs": [
    {
     "data": {
      "image/png": "[encoded data removed]",
      "text/plain": [
       "<Figure size 1440x720 with 1 Axes>"
      ]
     },
     "metadata": {
      "needs_background": "light"
     },
     "output_type": "display_data"
    }
   ],
   "source": [
    "plot_data['Date'] = [mdates.date2num(d) for d in plot_data['Date']]\n",
    "quotes = plot_data.loc[:100,:].values\n",
    "fig, ax = plt.subplots(figsize=(20,10))\n",
    "candlestick_ohlc(ax, quotes, width=0.5, colorup='g', colordown='r');\n",
    "plt.xlabel('Date')\n",
    "plt.ylabel('Price')\n",
    "plt.title(stock_name)\n",
    "ax.xaxis_date()\n",
    "ax.xaxis.set_major_formatter(mdates.DateFormatter(\"%Y-%m-%d\"))"
   ]
  },
  {
   "cell_type": "code",
   "execution_count": 218,
   "metadata": {},
   "outputs": [
    {
     "name": "stderr",
     "output_type": "stream",
     "text": [
      "/usr/local/lib/python3.5/dist-packages/ipykernel_launcher.py:3: FutureWarning: how in .resample() is deprecated\n",
      "the new syntax is .resample(...).first()\n",
      "  This is separate from the ipykernel package so we can avoid doing imports until\n",
      "/usr/local/lib/python3.5/dist-packages/ipykernel_launcher.py:4: FutureWarning: how in .resample() is deprecated\n",
      "the new syntax is .resample(...).max()\n",
      "  after removing the cwd from sys.path.\n",
      "/usr/local/lib/python3.5/dist-packages/ipykernel_launcher.py:5: FutureWarning: how in .resample() is deprecated\n",
      "the new syntax is .resample(...).min()\n",
      "  \"\"\"\n",
      "/usr/local/lib/python3.5/dist-packages/ipykernel_launcher.py:6: FutureWarning: how in .resample() is deprecated\n",
      "the new syntax is .resample(...).last()\n",
      "  \n",
      "/usr/local/lib/python3.5/dist-packages/ipykernel_launcher.py:7: FutureWarning: how in .resample() is deprecated\n",
      "the new syntax is .resample(...).sum()\n",
      "  import sys\n"
     ]
    },
    {
     "data": {
      "text/html": [
       "<div>\n",
       "<style scoped>\n",
       "    .dataframe tbody tr th:only-of-type {\n",
       "        vertical-align: middle;\n",
       "    }\n",
       "\n",
       "    .dataframe tbody tr th {\n",
       "        vertical-align: top;\n",
       "    }\n",
       "\n",
       "    .dataframe thead th {\n",
       "        text-align: right;\n",
       "    }\n",
       "</style>\n",
       "<table border=\"1\" class=\"dataframe\">\n",
       "  <thead>\n",
       "    <tr style=\"text-align: right;\">\n",
       "      <th></th>\n",
       "      <th>Date</th>\n",
       "      <th>Open Price</th>\n",
       "      <th>High Price</th>\n",
       "      <th>Low Price</th>\n",
       "      <th>Close Price</th>\n",
       "      <th>No.of Shares</th>\n",
       "    </tr>\n",
       "    <tr>\n",
       "      <th>Date</th>\n",
       "      <th></th>\n",
       "      <th></th>\n",
       "      <th></th>\n",
       "      <th></th>\n",
       "      <th></th>\n",
       "      <th></th>\n",
       "    </tr>\n",
       "  </thead>\n",
       "  <tbody>\n",
       "    <tr>\n",
       "      <th>2019-07-31</th>\n",
       "      <td>2019-07-31</td>\n",
       "      <td>810.00</td>\n",
       "      <td>819.05</td>\n",
       "      <td>657.65</td>\n",
       "      <td>674.40</td>\n",
       "      <td>7234390.0</td>\n",
       "    </tr>\n",
       "    <tr>\n",
       "      <th>2019-05-31</th>\n",
       "      <td>2019-05-31</td>\n",
       "      <td>766.90</td>\n",
       "      <td>821.40</td>\n",
       "      <td>716.40</td>\n",
       "      <td>808.50</td>\n",
       "      <td>9641183.0</td>\n",
       "    </tr>\n",
       "    <tr>\n",
       "      <th>2019-04-30</th>\n",
       "      <td>2019-04-30</td>\n",
       "      <td>779.95</td>\n",
       "      <td>783.55</td>\n",
       "      <td>737.60</td>\n",
       "      <td>766.90</td>\n",
       "      <td>7332259.0</td>\n",
       "    </tr>\n",
       "    <tr>\n",
       "      <th>2019-02-28</th>\n",
       "      <td>2019-02-28</td>\n",
       "      <td>721.00</td>\n",
       "      <td>734.35</td>\n",
       "      <td>681.20</td>\n",
       "      <td>709.35</td>\n",
       "      <td>11875458.0</td>\n",
       "    </tr>\n",
       "    <tr>\n",
       "      <th>2019-01-31</th>\n",
       "      <td>2019-01-31</td>\n",
       "      <td>621.20</td>\n",
       "      <td>726.00</td>\n",
       "      <td>604.65</td>\n",
       "      <td>722.95</td>\n",
       "      <td>16016120.0</td>\n",
       "    </tr>\n",
       "  </tbody>\n",
       "</table>\n",
       "</div>"
      ],
      "text/plain": [
       "                 Date  Open Price  High Price  Low Price  Close Price  \\\n",
       "Date                                                                    \n",
       "2019-07-31 2019-07-31      810.00      819.05     657.65       674.40   \n",
       "2019-05-31 2019-05-31      766.90      821.40     716.40       808.50   \n",
       "2019-04-30 2019-04-30      779.95      783.55     737.60       766.90   \n",
       "2019-02-28 2019-02-28      721.00      734.35     681.20       709.35   \n",
       "2019-01-31 2019-01-31      621.20      726.00     604.65       722.95   \n",
       "\n",
       "            No.of Shares  \n",
       "Date                      \n",
       "2019-07-31     7234390.0  \n",
       "2019-05-31     9641183.0  \n",
       "2019-04-30     7332259.0  \n",
       "2019-02-28    11875458.0  \n",
       "2019-01-31    16016120.0  "
      ]
     },
     "execution_count": 218,
     "metadata": {},
     "output_type": "execute_result"
    }
   ],
   "source": [
    "monthly_data = data.copy()\n",
    "monthly_data.set_index(monthly_data[\"Date\"],inplace=True)\n",
    "monthly_data['Open Price'] = monthly_data['Open Price'].resample('M', how='first')\n",
    "monthly_data['High Price'] = monthly_data['High Price'].resample('M', how='max')\n",
    "monthly_data['Low Price'] = monthly_data['Low Price'].resample('M', how='min')\n",
    "monthly_data['Close Price'] = monthly_data['Close Price'].resample('M', how='last')\n",
    "monthly_data['No.of Shares'] = monthly_data['No.of Shares'].resample('M', how='sum')\n",
    "monthly_data = monthly_data.dropna()\n",
    "monthly_data.head()"
   ]
  },
  {
   "cell_type": "code",
   "execution_count": 219,
   "metadata": {},
   "outputs": [
    {
     "data": {
      "image/png": "[encoded data removed]",
      "text/plain": [
       "<Figure size 1440x720 with 1 Axes>"
      ]
     },
     "metadata": {
      "needs_background": "light"
     },
     "output_type": "display_data"
    }
   ],
   "source": [
    "monthly_data = monthly_data.reset_index(drop=True)\n",
    "monthly_data['Date'] = [mdates.date2num(d) for d in monthly_data['Date']]\n",
    "quotes = monthly_data.loc[:,:].values\n",
    "fig, ax = plt.subplots(figsize=(20,10))\n",
    "candlestick_ohlc(ax, quotes, width=6, colorup='g', colordown='r');\n",
    "plt.xlabel('Date')\n",
    "plt.ylabel('Price')\n",
    "plt.title(stock_name)\n",
    "ax.xaxis_date()\n",
    "ax.xaxis.set_major_formatter(mdates.DateFormatter(\"%Y-%m-%d\"))"
   ]
  },
  {
   "cell_type": "code",
   "execution_count": 220,
   "metadata": {},
   "outputs": [
    {
     "name": "stderr",
     "output_type": "stream",
     "text": [
      "/usr/local/lib/python3.5/dist-packages/ipykernel_launcher.py:3: FutureWarning: how in .resample() is deprecated\n",
      "the new syntax is .resample(...).first()\n",
      "  This is separate from the ipykernel package so we can avoid doing imports until\n",
      "/usr/local/lib/python3.5/dist-packages/ipykernel_launcher.py:4: FutureWarning: how in .resample() is deprecated\n",
      "the new syntax is .resample(...).max()\n",
      "  after removing the cwd from sys.path.\n",
      "/usr/local/lib/python3.5/dist-packages/ipykernel_launcher.py:5: FutureWarning: how in .resample() is deprecated\n",
      "the new syntax is .resample(...).count()\n",
      "  \"\"\"\n",
      "/usr/local/lib/python3.5/dist-packages/ipykernel_launcher.py:6: FutureWarning: how in .resample() is deprecated\n",
      "the new syntax is .resample(...).last()\n",
      "  \n",
      "/usr/local/lib/python3.5/dist-packages/ipykernel_launcher.py:7: FutureWarning: how in .resample() is deprecated\n",
      "the new syntax is .resample(...).sum()\n",
      "  import sys\n"
     ]
    },
    {
     "data": {
      "text/html": [
       "<div>\n",
       "<style scoped>\n",
       "    .dataframe tbody tr th:only-of-type {\n",
       "        vertical-align: middle;\n",
       "    }\n",
       "\n",
       "    .dataframe tbody tr th {\n",
       "        vertical-align: top;\n",
       "    }\n",
       "\n",
       "    .dataframe thead th {\n",
       "        text-align: right;\n",
       "    }\n",
       "</style>\n",
       "<table border=\"1\" class=\"dataframe\">\n",
       "  <thead>\n",
       "    <tr style=\"text-align: right;\">\n",
       "      <th></th>\n",
       "      <th>Date</th>\n",
       "      <th>Open Price</th>\n",
       "      <th>High Price</th>\n",
       "      <th>Low Price</th>\n",
       "      <th>Close Price</th>\n",
       "      <th>No.of Shares</th>\n",
       "    </tr>\n",
       "    <tr>\n",
       "      <th>Date</th>\n",
       "      <th></th>\n",
       "      <th></th>\n",
       "      <th></th>\n",
       "      <th></th>\n",
       "      <th></th>\n",
       "      <th></th>\n",
       "    </tr>\n",
       "  </thead>\n",
       "  <tbody>\n",
       "    <tr>\n",
       "      <th>2016-10-30</th>\n",
       "      <td>2016-10-30</td>\n",
       "      <td>529.95</td>\n",
       "      <td>531.05</td>\n",
       "      <td>6.0</td>\n",
       "      <td>487.8</td>\n",
       "      <td>5322694.0</td>\n",
       "    </tr>\n",
       "    <tr>\n",
       "      <th>2013-11-03</th>\n",
       "      <td>2013-11-03</td>\n",
       "      <td>1199.10</td>\n",
       "      <td>1260.00</td>\n",
       "      <td>6.0</td>\n",
       "      <td>1219.5</td>\n",
       "      <td>1921862.0</td>\n",
       "    </tr>\n",
       "  </tbody>\n",
       "</table>\n",
       "</div>"
      ],
      "text/plain": [
       "                 Date  Open Price  High Price  Low Price  Close Price  \\\n",
       "Date                                                                    \n",
       "2016-10-30 2016-10-30      529.95      531.05        6.0        487.8   \n",
       "2013-11-03 2013-11-03     1199.10     1260.00        6.0       1219.5   \n",
       "\n",
       "            No.of Shares  \n",
       "Date                      \n",
       "2016-10-30     5322694.0  \n",
       "2013-11-03     1921862.0  "
      ]
     },
     "execution_count": 220,
     "metadata": {},
     "output_type": "execute_result"
    }
   ],
   "source": [
    "weekly_data = data.copy()\n",
    "weekly_data.set_index(weekly_data[\"Date\"],inplace=True)\n",
    "weekly_data['Open Price'] = weekly_data['Open Price'].resample('W', how='first')\n",
    "weekly_data['High Price'] = weekly_data['High Price'].resample('W', how='max')\n",
    "weekly_data['Low Price'] = weekly_data['Low Price'].resample('W', how='count')\n",
    "weekly_data['Close Price'] = weekly_data['Close Price'].resample('W', how='last')\n",
    "weekly_data['No.of Shares'] = weekly_data['No.of Shares'].resample('W', how='sum')\n",
    "weekly_data = weekly_data.dropna()\n",
    "weekly_data"
   ]
  },
  {
   "cell_type": "code",
   "execution_count": 221,
   "metadata": {},
   "outputs": [
    {
     "data": {
      "image/png": "[encoded data removed]",
      "text/plain": [
       "<Figure size 1440x720 with 1 Axes>"
      ]
     },
     "metadata": {
      "needs_background": "light"
     },
     "output_type": "display_data"
    }
   ],
   "source": [
    "weekly_data = weekly_data.reset_index(drop=True)\n",
    "weekly_data['Date'] = [mdates.date2num(d) for d in weekly_data['Date']]\n",
    "quotes = weekly_data.loc[:,:].values\n",
    "fig, ax = plt.subplots(figsize=(20,10))\n",
    "candlestick_ohlc(ax, quotes, width=6, colorup='g', colordown='r');\n",
    "plt.xlabel('Date')\n",
    "plt.ylabel('Price')\n",
    "plt.title(stock_name)\n",
    "ax.xaxis_date()\n",
    "ax.xaxis.set_major_formatter(mdates.DateFormatter(\"%Y-%m-%d\"))"
   ]
  },
  {
   "cell_type": "code",
   "execution_count": 222,
   "metadata": {},
   "outputs": [
    {
     "data": {
      "text/plain": [
       "[<matplotlib.lines.Line2D at 0x7f7165698a20>]"
      ]
     },
     "execution_count": 222,
     "metadata": {},
     "output_type": "execute_result"
    },
    {
     "data": {
      "image/png": "[encoded data removed]",
      "text/plain": [
       "<Figure size 1440x720 with 1 Axes>"
      ]
     },
     "metadata": {
      "needs_background": "light"
     },
     "output_type": "display_data"
    }
   ],
   "source": [
    "train_data = data[0:int(len(data)*0.8)]\n",
    "test_data = data[int(len(data)*0.8):]\n",
    "plt.figure(figsize=(20,10))\n",
    "plt.title(stock_name)\n",
    "plt.xlabel('Dates')\n",
    "plt.ylabel('Prices')\n",
    "plt.plot(train_data['Close Price'], 'blue', label='Training Data')\n",
    "plt.plot(test_data['Close Price'], 'green', label='Testing Data')"
   ]
  },
  {
   "cell_type": "code",
   "execution_count": 223,
   "metadata": {},
   "outputs": [],
   "source": [
    "def smape_kun(y_true, y_pred):\n",
    "    return np.mean((np.abs(y_pred - y_true) * 200/ (np.abs(y_pred) +       np.abs(y_true))))"
   ]
  },
  {
   "cell_type": "code",
   "execution_count": 224,
   "metadata": {},
   "outputs": [
    {
     "name": "stdout",
     "output_type": "stream",
     "text": [
      "<class 'list'>\n"
     ]
    },
    {
     "ename": "IndexError",
     "evalue": "index 502 is out of bounds for axis 0 with size 502",
     "output_type": "error",
     "traceback": [
      "\u001b[0;31m---------------------------------------------------------------------------\u001b[0m",
      "\u001b[0;31mIndexError\u001b[0m                                Traceback (most recent call last)",
      "\u001b[0;32m<ipython-input-224-04c541d5dcf2>\u001b[0m in \u001b[0;36m<module>\u001b[0;34m\u001b[0m\n\u001b[1;32m      8\u001b[0m     \u001b[0myhat\u001b[0m \u001b[0;34m=\u001b[0m \u001b[0moutput\u001b[0m\u001b[0;34m[\u001b[0m\u001b[0;36m0\u001b[0m\u001b[0;34m]\u001b[0m\u001b[0;34m\u001b[0m\u001b[0m\n\u001b[1;32m      9\u001b[0m     \u001b[0mpred\u001b[0m\u001b[0;34m.\u001b[0m\u001b[0mappend\u001b[0m\u001b[0;34m(\u001b[0m\u001b[0myhat\u001b[0m\u001b[0;34m)\u001b[0m\u001b[0;34m\u001b[0m\u001b[0m\n\u001b[0;32m---> 10\u001b[0;31m     \u001b[0mobs\u001b[0m \u001b[0;34m=\u001b[0m \u001b[0mtest_data\u001b[0m\u001b[0;34m[\u001b[0m\u001b[0;34m'Close Price'\u001b[0m\u001b[0;34m]\u001b[0m\u001b[0;34m.\u001b[0m\u001b[0mvalues\u001b[0m\u001b[0;34m[\u001b[0m\u001b[0mi\u001b[0m\u001b[0;34m]\u001b[0m\u001b[0;34m\u001b[0m\u001b[0m\n\u001b[0m\u001b[1;32m     11\u001b[0m     \u001b[0mhistory\u001b[0m\u001b[0;34m.\u001b[0m\u001b[0mappend\u001b[0m\u001b[0;34m(\u001b[0m\u001b[0mobs\u001b[0m\u001b[0;34m)\u001b[0m\u001b[0;34m\u001b[0m\u001b[0m\n\u001b[1;32m     12\u001b[0m \u001b[0merror\u001b[0m \u001b[0;34m=\u001b[0m \u001b[0mmean_squared_error\u001b[0m\u001b[0;34m(\u001b[0m\u001b[0mtest_data\u001b[0m\u001b[0;34m[\u001b[0m\u001b[0;34m'Close Price'\u001b[0m\u001b[0;34m]\u001b[0m\u001b[0;34m.\u001b[0m\u001b[0mvalues\u001b[0m\u001b[0;34m,\u001b[0m \u001b[0mpred\u001b[0m\u001b[0;34m)\u001b[0m\u001b[0;34m\u001b[0m\u001b[0m\n",
      "\u001b[0;31mIndexError\u001b[0m: index 502 is out of bounds for axis 0 with size 502"
     ]
    }
   ],
   "source": [
    "history = [x for x in train_data['Close Price'].values]\n",
    "print(type(history))\n",
    "pred = []\n",
    "for i in range(len(train_data['Close Price'].values)):\n",
    "    model = ARIMA(history, order=(5,1,0))\n",
    "    model_fit = model.fit(disp=0)\n",
    "    output = model_fit.forecast()\n",
    "    yhat = output[0]\n",
    "    pred.append(yhat)\n",
    "    obs = test_data['Close Price'].values[i]\n",
    "    history.append(obs)\n",
    "error = mean_squared_error(test_data['Close Price'].values, pred)\n",
    "print('Mean Squared Error: ',error)"
   ]
  },
  {
   "cell_type": "code",
   "execution_count": null,
   "metadata": {},
   "outputs": [],
   "source": [
    "plt.figure(figsize=(20,10))\n",
    "plt.plot(train_data['Close Price'], 'green', color='blue', label='Training Data')\n",
    "plt.plot(test_data.index, predictions, color='green', label='Predicted Price')\n",
    "plt.plot(test_data.index, test_data['Close Price'], color='red', label='Actual Price')\n",
    "plt.title(stock_name)\n",
    "plt.xlabel('Dates')\n",
    "plt.ylabel('Prices')\n",
    "plt.legend()"
   ]
  },
  {
   "cell_type": "code",
   "execution_count": null,
   "metadata": {},
   "outputs": [],
   "source": []
  }
 ],
 "metadata": {
  "kernelspec": {
   "display_name": "Python 3",
   "language": "python",
   "name": "python3"
  },
  "language_info": {
   "codemirror_mode": {
    "name": "ipython",
    "version": 3
   },
   "file_extension": ".py",
   "mimetype": "text/x-python",
   "name": "python",
   "nbconvert_exporter": "python",
   "pygments_lexer": "ipython3",
   "version": "3.5.2"
  }
 },
 "nbformat": 4,
 "nbformat_minor": 2
}
